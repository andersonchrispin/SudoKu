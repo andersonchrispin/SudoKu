{
 "cells": [
  {
   "cell_type": "code",
   "execution_count": 1,
   "metadata": {},
   "outputs": [],
   "source": [
    "import pandas as pd\n",
    "import numpy as np"
   ]
  },
  {
   "cell_type": "code",
   "execution_count": 3,
   "metadata": {},
   "outputs": [
    {
     "name": "stdout",
     "output_type": "stream",
     "text": [
      "3 5 1 4 2 6 7 8 \n",
      "1 2 3 5 7 8 4 6 \n",
      "4 1 5 2 6 3 8 7 \n",
      "2 3 4 1 8 7 6 5 \n",
      "5 6 7 8 1 2 3 4 \n",
      "7 8 6 3 4 5 1 2 \n",
      "6 4 8 7 5 1 2 3 \n",
      "8 7 2 6 3 4 5 1 \n"
     ]
    }
   ],
   "source": [
    "def solve(grid, row, col, value, size):\n",
    "    for x in range(size):\n",
    "        if grid[row][x] == value:\n",
    "            return False\n",
    "             \n",
    "    for x in range(size):\n",
    "        if grid[x][col] == value:\n",
    "            return False\n",
    "    \n",
    "    limit = int(size/3)\n",
    "    row_init = row - row % limit\n",
    "    col_init = col - col % limit\n",
    "    for i in range(limit):\n",
    "        for j in range(limit):\n",
    "            if grid[i + row_init][j + col_init] == value:\n",
    "                return False\n",
    "    return True\n",
    " \n",
    "def Suduko(grid, row, col, size):\n",
    "    if (row == size - 1 and col == size):\n",
    "        return True\n",
    "    if col == size:\n",
    "        row += 1\n",
    "        col = 0\n",
    "    if grid[row][col] > 0:\n",
    "        return Suduko(grid, row, col + 1, size)\n",
    "    for value in range(1, size + 1, 1): \n",
    "        if solve(grid, row, col, value, size):\n",
    "            grid[row][col] = value\n",
    "            if Suduko(grid, row, col + 1, size):\n",
    "                return True\n",
    "        grid[row][col] = 0\n",
    "    return False\n",
    "\n",
    "shape = 8 #set grid size\n",
    "grid = [[0 for x in range(shape)] for y in range(shape)]\n",
    "\n",
    "#set predefined values [row,col,value], index starts at 1\n",
    "values = [[1,1,3],\n",
    "          [1,2,5],\n",
    "          [3,4,2]]\n",
    "for i in values:\n",
    "    grid[i[0]-1][i[1]-1] = i[2]\n",
    "\n",
    "#sudoku resolution\n",
    "if (Suduko(grid, 0, 0, len(grid))):\n",
    "    for i in range(len(grid)):\n",
    "        for j in range(len(grid)):\n",
    "            print(grid[i][j],end = \" \")\n",
    "        print()\n",
    "else:\n",
    "    print(\"Solution does not exist\")\n",
    "\n"
   ]
  }
 ],
 "metadata": {
  "kernelspec": {
   "display_name": "test_env",
   "language": "python",
   "name": "test_env"
  },
  "language_info": {
   "codemirror_mode": {
    "name": "ipython",
    "version": 3
   },
   "file_extension": ".py",
   "mimetype": "text/x-python",
   "name": "python",
   "nbconvert_exporter": "python",
   "pygments_lexer": "ipython3",
   "version": "3.10.9"
  },
  "orig_nbformat": 4
 },
 "nbformat": 4,
 "nbformat_minor": 2
}
